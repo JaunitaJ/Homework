{
 "cells": [
  {
   "attachments": {},
   "cell_type": "markdown",
   "metadata": {},
   "source": [
    "### 4 Python Homework\n",
    "\n",
    "---\n",
    "\n",
    "## Questions\n",
    "\n",
    "1. What does one need to do to use a module?\n",
    "    - We need to import the respective module into our code base\n",
    "\n",
    "2. Name a Module (not the DateTime Nodule) we looked at and write a line or 2 of code as an example using this module.\n",
    "\n",
    "    - Math Library\n",
    "        - import math\n",
    "        - print(\"Absoulte Value...\", math.fabs(-235.21))\n",
    "\n",
    "3. What is a benefit of using Exception handling?\n",
    "    - It helps with anticipating runtime errors. We can use corrective measures to see what may have gone wrong in our code block. It allows code to run even if errors occur.\n",
    "\n",
    "4. What are the 4 components used for Python Exception Handling?\n",
    "    - try, except, else, and finally\n",
    "\n",
    "5. NumPy arrays are like what Python data type?\n",
    "    - Lists\n",
    "\n",
    "6. What is one of the main benefits of using NumPy arrays.\n",
    "    - NumPy uses less memory compared to list\n",
    "\n",
    "7. What is one of the main requirements about the 'dtype' of NumPy arrays?\n",
    "    - the data needs to bbe the same type\n",
    "\n",
    "8. Of the 10 uses of NumPy, name 2.\n",
    "    - Matrix Operations, and Statistcal Operations\n",
    "\n",
    "9. Name one of the other libraries we'll use with NumPy?\n",
    "    - Matplotlib\n",
    "\n",
    "10. What is the shape of NumPy arrays?\n",
    "    - A Tuple of non-negative integers that specify the dimensions, length and size of each array (3,2,4)\n",
    "\n",
    "11. What is a Tensor?\n",
    "    An array with 3+ dimensions\n",
    "\n",
    "12. Name a reason why it's better using NumPy for Data Analysis than using a Python List?\n",
    "    - It adds data structures to Python that guarantee efficient calculations with arrays and matrices\n",
    "\n",
    "13. When creating an \"empty\" array, where do the elements come from?\n",
    "    - It will pull the last used elements "
   ]
  },
  {
   "cell_type": "code",
   "execution_count": 6,
   "metadata": {},
   "outputs": [
    {
     "name": "stdout",
     "output_type": "stream",
     "text": [
      "Current date and time... 2023-02-20 11:56:02.087104\n",
      "Current Month... February\n"
     ]
    }
   ],
   "source": [
    "# Use the DateTime module to get Current Date and Time, and save it to a variable. Then extract just the Full month name form that variable.\n",
    "\n",
    "import datetime as dt\n",
    "\n",
    "a = dt.datetime.now()\n",
    "print(\"Current date and time...\", a)\n",
    "\n",
    "# Full Month name\n",
    "\n",
    "print(\"Current Month...\", a.strftime(\"%B\"))\n"
   ]
  },
  {
   "cell_type": "code",
   "execution_count": 12,
   "metadata": {},
   "outputs": [
    {
     "name": "stdout",
     "output_type": "stream",
     "text": [
      "Hi Jaunita Happy Monday !\n",
      "Hi Travis Happy Sunday !\n"
     ]
    }
   ],
   "source": [
    "# Write a simple function that takes 2 parameters -- a first name and a day name.\n",
    "\n",
    "'''\n",
    "Set a default value for the day name of Sunday.\n",
    "Have the function print out a greeting -- using the parameters -- that says something like \"Hi first-name! Happy day-name!\". Remember to use the variables in the greeting to replace first-name and day-name.\n",
    "Invoke this function with 2 variables.\n",
    "Invoke this function with 1 variable only.\n",
    "\n",
    "'''\n",
    "\n",
    "import datetime as dt\n",
    "\n",
    "def nd(name, day = \"Sunday\"):\n",
    "    print(\"Hi\", name, \"Happy\", day,\"!\")\n",
    "    \n",
    "nd(\"Jaunita\", \"Monday\")\n",
    "nd(\"Travis\")"
   ]
  },
  {
   "cell_type": "code",
   "execution_count": 13,
   "metadata": {},
   "outputs": [
    {
     "name": "stdout",
     "output_type": "stream",
     "text": [
      "F is not defined\n",
      "This assignment is finished\n"
     ]
    }
   ],
   "source": [
    "# Write a block of code to handle one of the most common Python exception errors. Select one of the common errors from the curriculum section on Python Exception handling. Have your code example uses the try,except, else, and finally components.\n",
    "\n",
    "try:\n",
    "    print(f)\n",
    "except NameError:\n",
    "    print(\"F is not defined\")\n",
    "else:\n",
    "    print(\"F is defined as...\")\n",
    "finally:\n",
    "    print(\"This assignment is finished\")\n",
    "\n"
   ]
  },
  {
   "cell_type": "code",
   "execution_count": 32,
   "metadata": {},
   "outputs": [
    {
     "name": "stdout",
     "output_type": "stream",
     "text": [
      "Array d... [[[ 0  1]\n",
      "  [ 2  3]\n",
      "  [ 4  5]]\n",
      "\n",
      " [[ 6  7]\n",
      "  [ 8  9]\n",
      "  [10 11]]]\n"
     ]
    }
   ],
   "source": [
    "# Import NumPy, use one of the NumPy methods and create an array with a shape of ... (2, 3, 2). You can use the reshape method -- .reshape()\n",
    "\n",
    "import numpy as np\n",
    "\n",
    "d = np.arange(12).reshape([2,3,2])\n",
    "print(\"Array d...\", d)\n",
    "\n",
    "\n",
    "\n",
    "\n"
   ]
  },
  {
   "cell_type": "code",
   "execution_count": 33,
   "metadata": {},
   "outputs": [
    {
     "name": "stdout",
     "output_type": "stream",
     "text": [
      "Array V... [ 0.  4.  8. 12. 16. 20.]\n"
     ]
    }
   ],
   "source": [
    "# Use NumPy .linspace() to create an array with 6 linearly spaced values between 0 and 20\n",
    "\n",
    "import numpy as np\n",
    "\n",
    "v = np.linspace(0, 20, num=6)\n",
    "print(\"Array V...\", v)"
   ]
  },
  {
   "cell_type": "code",
   "execution_count": 34,
   "metadata": {},
   "outputs": [
    {
     "name": "stdout",
     "output_type": "stream",
     "text": [
      "Original Array... [ 0.  4.  8. 12. 16. 20.]\n",
      "Copy of Array... [ 0.  4.  8. 12. 16. 20.]\n"
     ]
    }
   ],
   "source": [
    "# Make a Deep Copy of the above array you created in point #5 above.\n",
    "import copy\n",
    "\n",
    "v = np.linspace(0, 20, num=6)\n",
    "vcopy = copy.deepcopy(v)\n",
    "\n",
    "print(\"Original Array...\", v)\n",
    "print(\"Copy of Array...\", vcopy)"
   ]
  },
  {
   "cell_type": "code",
   "execution_count": 35,
   "metadata": {},
   "outputs": [
    {
     "name": "stdout",
     "output_type": "stream",
     "text": [
      "First and Second Arrays multiplied...\n",
      "\n",
      "[[0.568  0.4189 0.71   0.7881]\n",
      " [0.08   0.059  0.1    0.111 ]\n",
      " [0.192  0.1416 0.24   0.2664]\n",
      " [0.24   0.177  0.3    0.333 ]]\n"
     ]
    }
   ],
   "source": [
    "# Using NumPy, 'broadcast' the multiplication of the following 2 arrays below to a 2-D array using the newaxis parameter ...\n",
    "\n",
    "'''\n",
    "[0.71, 0.1, 0.24, 0.3]\n",
    "[0.8, 0.59, 1.0, 1.11]\n",
    "'''\n",
    "from numpy import array, newaxis\n",
    "\n",
    "first = array([0.71, 0.1, 0.24, 0.3])\n",
    "second = array([0.8, 0.59, 1.0, 1.11])\n",
    "\n",
    "print(\"First and Second Arrays multiplied...\\n\")\n",
    "print(first[:,newaxis] * second)"
   ]
  }
 ],
 "metadata": {
  "kernelspec": {
   "display_name": "Python 3",
   "language": "python",
   "name": "python3"
  },
  "language_info": {
   "codemirror_mode": {
    "name": "ipython",
    "version": 3
   },
   "file_extension": ".py",
   "mimetype": "text/x-python",
   "name": "python",
   "nbconvert_exporter": "python",
   "pygments_lexer": "ipython3",
   "version": "3.11.1"
  },
  "orig_nbformat": 4,
  "vscode": {
   "interpreter": {
    "hash": "94e6205f4823da1a038757e9398740ca39a6b2275d987ab7060211a4ea61f4f8"
   }
  }
 },
 "nbformat": 4,
 "nbformat_minor": 2
}
