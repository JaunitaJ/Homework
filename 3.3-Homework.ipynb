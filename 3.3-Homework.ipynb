{
 "cells": [
  {
   "cell_type": "code",
   "execution_count": 8,
   "metadata": {},
   "outputs": [
    {
     "name": "stdout",
     "output_type": "stream",
     "text": [
      "Renting a car is more affordable\n",
      "Renting a car is very expensive\n"
     ]
    }
   ],
   "source": [
    "### FLow Control Methods\n",
    "\n",
    "# Create an if statement: if 'age' is greater than or equal to 25, print \"Renting a car is more affordable\", however if 'age' is less than 25, print \"Renting a car is very expensive.\"\n",
    "\n",
    "age = 33\n",
    "\n",
    "if age >= 25:\n",
    "    print(\"Renting a car is more affordable\")\n",
    "if age < 25:\n",
    "    print(\"Renting a car is very expensive\")\n",
    "    \n",
    "#Create a if else statement: if  age is greater than or equal to 25, print renting a car is more affordable. \"If age is less than 18, print \"Renting a care is very expensive. If less than 18, print\" You cannot legally rent a car.\n",
    "\n",
    "age = 17\n",
    "\n",
    "if age >= 25:\n",
    "    print(\"Renting a car is more affordable\")\n",
    "elif age <= 18:\n",
    "    print(\"Renting a car is very expensive\")\n",
    "else:\n",
    "    print(\"You cannot legally rent a car\")\n"
   ]
  },
  {
   "cell_type": "code",
   "execution_count": 17,
   "metadata": {},
   "outputs": [
    {
     "name": "stdout",
     "output_type": "stream",
     "text": [
      "You cannot legally rent a car\n"
     ]
    }
   ],
   "source": [
    "#Create a if else statement: if  age is greater than or equal to 25, print renting a car is more affordable. \"If age is less than 18, print \"Renting a care is very expensive. If less than 18, print\" You cannot legally rent a car.\n",
    "\n",
    "age = 17\n",
    "\n",
    "if age >= 25:\n",
    "    print(\"Renting a car is more affordable\")\n",
    "elif age < 25 and age == 18: \n",
    "    print(\"Renting a car is very expensive\")\n",
    "else :\n",
    "    print(\"You cannot legally rent a car\")"
   ]
  },
  {
   "cell_type": "code",
   "execution_count": 21,
   "metadata": {},
   "outputs": [
    {
     "name": "stdout",
     "output_type": "stream",
     "text": [
      "43\n",
      "e\n",
      "u\n",
      "i\n",
      "o\n",
      "o\n",
      "u\n",
      "o\n",
      "e\n",
      "e\n",
      "a\n",
      "o\n"
     ]
    }
   ],
   "source": [
    "# Loop over the following string to (1) count all the characters in the string and (2) print out all the vowels -- \"The quick brown fox jumps over the lazy dog\"\n",
    "\n",
    "sentence = \"The quick brown fox jumps over the lazy dog\"\n",
    "\n",
    "sum =0\n",
    "for char in sentence:\n",
    "    sum += int(1)\n",
    "print(sum)\n",
    "\n",
    "for vowels in sentence:\n",
    "    if vowels in \"aeiouAEIOU\":\n",
    "        print(vowels)\n"
   ]
  },
  {
   "cell_type": "code",
   "execution_count": 22,
   "metadata": {},
   "outputs": [
    {
     "name": "stdout",
     "output_type": "stream",
     "text": [
      "trousers maple\n",
      "trousers auburn\n",
      "trousers Dark Sapphire\n",
      "trousers gunmetal blue\n",
      "trousers cerise\n",
      "trousers fuchsia\n",
      "trousers burnt sienna\n",
      "trousers aqua\n",
      "blouse maple\n",
      "blouse auburn\n",
      "blouse Dark Sapphire\n",
      "blouse gunmetal blue\n",
      "blouse cerise\n",
      "blouse fuchsia\n",
      "blouse burnt sienna\n",
      "blouse aqua\n",
      "bandana maple\n",
      "bandana auburn\n",
      "bandana Dark Sapphire\n",
      "bandana gunmetal blue\n",
      "bandana cerise\n",
      "bandana fuchsia\n",
      "bandana burnt sienna\n",
      "bandana aqua\n",
      "cumber band maple\n",
      "cumber band auburn\n",
      "cumber band Dark Sapphire\n",
      "cumber band gunmetal blue\n",
      "cumber band cerise\n",
      "cumber band fuchsia\n",
      "cumber band burnt sienna\n",
      "cumber band aqua\n",
      "blazer maple\n",
      "blazer auburn\n",
      "blazer Dark Sapphire\n",
      "blazer gunmetal blue\n",
      "blazer cerise\n",
      "blazer fuchsia\n",
      "blazer burnt sienna\n",
      "blazer aqua\n",
      "vest maple\n",
      "vest auburn\n",
      "vest Dark Sapphire\n",
      "vest gunmetal blue\n",
      "vest cerise\n",
      "vest fuchsia\n",
      "vest burnt sienna\n",
      "vest aqua\n",
      "french beret maple\n",
      "french beret auburn\n",
      "french beret Dark Sapphire\n",
      "french beret gunmetal blue\n",
      "french beret cerise\n",
      "french beret fuchsia\n",
      "french beret burnt sienna\n",
      "french beret aqua\n",
      "scarf maple\n",
      "scarf auburn\n",
      "scarf Dark Sapphire\n",
      "scarf gunmetal blue\n",
      "scarf cerise\n",
      "scarf fuchsia\n",
      "scarf burnt sienna\n",
      "scarf aqua\n",
      "stole maple\n",
      "stole auburn\n",
      "stole Dark Sapphire\n",
      "stole gunmetal blue\n",
      "stole cerise\n",
      "stole fuchsia\n",
      "stole burnt sienna\n",
      "stole aqua\n"
     ]
    }
   ],
   "source": [
    "# Write a nested loop that prints out every piece of clothing from the couture list, in every fashionable color from the panettone set:\n",
    "\n",
    "couture = [\"trousers\", \"blouse\", \"bandana\", \"cumber band\", \"blazer\", \"vest\", \"french beret\", \"scarf\", \"stole\"]\n",
    "panettone = {\"cerise\", \"fuchsia\", \"aqua\", \"maple\", \"auburn\", \"burnt sienna\", \"gunmetal blue\", \"Dark Sapphire\"}\n",
    "\n",
    "for x in couture:\n",
    "    for y in panettone:\n",
    "        print(x,y)"
   ]
  },
  {
   "cell_type": "code",
   "execution_count": 25,
   "metadata": {},
   "outputs": [
    {
     "name": "stdout",
     "output_type": "stream",
     "text": [
      "5050\n"
     ]
    }
   ],
   "source": [
    "# Use range as a loop to calculate the sum of all the numbers from 1 to 100\n",
    "\n",
    "x= 0\n",
    "for a in range(1,101):\n",
    "    x = x + a\n",
    "print(x)"
   ]
  },
  {
   "cell_type": "code",
   "execution_count": 32,
   "metadata": {},
   "outputs": [
    {
     "name": "stdout",
     "output_type": "stream",
     "text": [
      "banana\n",
      "['kiwi', 'banana', 'cherry']\n",
      "['kiwi', 'banana', 'cherry', 'orange']\n",
      "['kiwi', 'lemon', 'banana', 'cherry', 'orange']\n",
      "['kiwi', 'lemon', 'cherry', 'orange']\n"
     ]
    }
   ],
   "source": [
    "# Print the second item in this fruits list. [\"apple\", \"banana\", \"cherry\"]\n",
    "\n",
    "fruits = [\"apple\", \"banana\", \"cherry\"]\n",
    "print(fruits[1])\n",
    "\n",
    "# Change the value from \"apple\" to \"kiwi\", in the fruits list. [\"apple\", \"banana\", \"cherry\"]\n",
    "\n",
    "fruits[0] = \"kiwi\"\n",
    "print(fruits)\n",
    "\n",
    "#Use the append method to add \"orange\" to the fruits list. [\"apple\", \"banana\", \"cherry\"]\n",
    "\n",
    "fruits.append(\"orange\")\n",
    "print(fruits)\n",
    "\n",
    "# Use the insert method to add \"lemon\" as the second item in the fruits list. [\"apple\", \"banana\", \"cherry\"]\n",
    "\n",
    "fruits.insert(1,\"lemon\")\n",
    "print(fruits)\n",
    "\n",
    "# Use the remove method to remove \"banana\" from the fruits list. [\"apple\", \"banana\", \"cherry\"]\n",
    "\n",
    "fruits.remove(\"banana\")\n",
    "print(fruits)"
   ]
  },
  {
   "cell_type": "code",
   "execution_count": 37,
   "metadata": {},
   "outputs": [
    {
     "name": "stdout",
     "output_type": "stream",
     "text": [
      "['kiwi', 'melon']\n",
      "['cherry', 'orange', 'kiwi']\n",
      "Number of items in the list 7\n",
      "['orange', 'melon', 'mango', 'kiwi', 'cherry', 'banana', 'apple']\n"
     ]
    }
   ],
   "source": [
    "#Use negative indexing to print the 3rd and 2nd to last items in the list. [\"apple\", \"banana\", \"cherry\", \"orange\", \"kiwi\", \"melon\", \"mango\"]\n",
    "\n",
    "fruits = [\"apple\", \"banana\", \"cherry\", \"orange\", \"kiwi\", \"melon\", \"mango\"]\n",
    "print(fruits[-3:-1])\n",
    "\n",
    "#Use a range of indexes to print the third, fourth, and fifth item in the list. [\"apple\", \"banana\", \"cherry\", \"orange\", \"kiwi\", \"melon\", \"mango\"]\n",
    "\n",
    "print(fruits[2:5])\n",
    "\n",
    "#Use the correct syntax to print the number of items in the list. [\"apple\", \"banana\", \"cherry\", \"orange\", \"kiwi\", \"melon\", \"mango\"]\n",
    "\n",
    "numoffruit = len(fruits)\n",
    "print(\"Number of items in the list\", numoffruit)\n",
    "\n",
    "#Use the correct syntax to sort this list in reverse order [\"apple\", \"banana\", \"cherry\", \"orange\", \"kiwi\", \"melon\", \"mango\"]\n",
    "\n",
    "fruits.sort(reverse = True)\n",
    "print(fruits)"
   ]
  }
 ],
 "metadata": {
  "kernelspec": {
   "display_name": "Python 3",
   "language": "python",
   "name": "python3"
  },
  "language_info": {
   "codemirror_mode": {
    "name": "ipython",
    "version": 3
   },
   "file_extension": ".py",
   "mimetype": "text/x-python",
   "name": "python",
   "nbconvert_exporter": "python",
   "pygments_lexer": "ipython3",
   "version": "3.11.1"
  },
  "orig_nbformat": 4,
  "vscode": {
   "interpreter": {
    "hash": "94e6205f4823da1a038757e9398740ca39a6b2275d987ab7060211a4ea61f4f8"
   }
  }
 },
 "nbformat": 4,
 "nbformat_minor": 2
}
