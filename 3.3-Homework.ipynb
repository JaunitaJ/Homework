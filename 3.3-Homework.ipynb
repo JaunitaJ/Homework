{
 "cells": [
  {
   "cell_type": "code",
   "execution_count": 8,
   "metadata": {},
   "outputs": [
    {
     "name": "stdout",
     "output_type": "stream",
     "text": [
      "Renting a car is more affordable\n",
      "Renting a car is very expensive\n"
     ]
    }
   ],
   "source": [
    "### FLow Control Methods\n",
    "\n",
    "# Create an if statement: if 'age' is greater than or equal to 25, print \"Renting a car is more affordable\", however if 'age' is less than 25, print \"Renting a car is very expensive.\"\n",
    "\n",
    "age = 33\n",
    "\n",
    "if age >= 25:\n",
    "    print(\"Renting a car is more affordable\")\n",
    "if age < 25:\n",
    "    print(\"Renting a car is very expensive\")\n",
    "    \n",
    "#Create a if else statement: if  age is greater than or equal to 25, print renting a car is more affordable. \"If age is less than 18, print \"Renting a care is very expensive. If less than 18, print\" You cannot legally rent a car.\n",
    "\n",
    "age = 17\n",
    "\n",
    "if age >= 25:\n",
    "    print(\"Renting a car is more affordable\")\n",
    "elif age <= 18:\n",
    "    print(\"Renting a car is very expensive\")\n",
    "else:\n",
    "    print(\"You cannot legally rent a car\")\n"
   ]
  },
  {
   "cell_type": "code",
   "execution_count": 17,
   "metadata": {},
   "outputs": [
    {
     "name": "stdout",
     "output_type": "stream",
     "text": [
      "You cannot legally rent a car\n"
     ]
    }
   ],
   "source": [
    "#Create a if else statement: if  age is greater than or equal to 25, print renting a car is more affordable. \"If age is less than 18, print \"Renting a care is very expensive. If less than 18, print\" You cannot legally rent a car.\n",
    "\n",
    "age = 17\n",
    "\n",
    "if age >= 25:\n",
    "    print(\"Renting a car is more affordable\")\n",
    "elif age < 25 and age == 18: \n",
    "    print(\"Renting a car is very expensive\")\n",
    "else :\n",
    "    print(\"You cannot legally rent a car\")"
   ]
  },
  {
   "cell_type": "code",
   "execution_count": 21,
   "metadata": {},
   "outputs": [
    {
     "name": "stdout",
     "output_type": "stream",
     "text": [
      "43\n",
      "e\n",
      "u\n",
      "i\n",
      "o\n",
      "o\n",
      "u\n",
      "o\n",
      "e\n",
      "e\n",
      "a\n",
      "o\n"
     ]
    }
   ],
   "source": [
    "# Loop over the following string to (1) count all the characters in the string and (2) print out all the vowels -- \"The quick brown fox jumps over the lazy dog\"\n",
    "\n",
    "sentence = \"The quick brown fox jumps over the lazy dog\"\n",
    "\n",
    "sum =0\n",
    "for char in sentence:\n",
    "    sum += int(1)\n",
    "print(sum)\n",
    "\n",
    "for vowels in sentence:\n",
    "    if vowels in \"aeiouAEIOU\":\n",
    "        print(vowels)\n"
   ]
  },
  {
   "cell_type": "code",
   "execution_count": 1,
   "metadata": {},
   "outputs": [
    {
     "name": "stdout",
     "output_type": "stream",
     "text": [
      "maple trousers\n",
      "burnt sienna trousers\n",
      "cerise trousers\n",
      "fuchsia trousers\n",
      "auburn trousers\n",
      "aqua trousers\n",
      "gunmetal blue trousers\n",
      "Dark Sapphire trousers\n",
      "maple blouse\n",
      "burnt sienna blouse\n",
      "cerise blouse\n",
      "fuchsia blouse\n",
      "auburn blouse\n",
      "aqua blouse\n",
      "gunmetal blue blouse\n",
      "Dark Sapphire blouse\n",
      "maple bandana\n",
      "burnt sienna bandana\n",
      "cerise bandana\n",
      "fuchsia bandana\n",
      "auburn bandana\n",
      "aqua bandana\n",
      "gunmetal blue bandana\n",
      "Dark Sapphire bandana\n",
      "maple cumber band\n",
      "burnt sienna cumber band\n",
      "cerise cumber band\n",
      "fuchsia cumber band\n",
      "auburn cumber band\n",
      "aqua cumber band\n",
      "gunmetal blue cumber band\n",
      "Dark Sapphire cumber band\n",
      "maple blazer\n",
      "burnt sienna blazer\n",
      "cerise blazer\n",
      "fuchsia blazer\n",
      "auburn blazer\n",
      "aqua blazer\n",
      "gunmetal blue blazer\n",
      "Dark Sapphire blazer\n",
      "maple vest\n",
      "burnt sienna vest\n",
      "cerise vest\n",
      "fuchsia vest\n",
      "auburn vest\n",
      "aqua vest\n",
      "gunmetal blue vest\n",
      "Dark Sapphire vest\n",
      "maple french beret\n",
      "burnt sienna french beret\n",
      "cerise french beret\n",
      "fuchsia french beret\n",
      "auburn french beret\n",
      "aqua french beret\n",
      "gunmetal blue french beret\n",
      "Dark Sapphire french beret\n",
      "maple scarf\n",
      "burnt sienna scarf\n",
      "cerise scarf\n",
      "fuchsia scarf\n",
      "auburn scarf\n",
      "aqua scarf\n",
      "gunmetal blue scarf\n",
      "Dark Sapphire scarf\n",
      "maple stole\n",
      "burnt sienna stole\n",
      "cerise stole\n",
      "fuchsia stole\n",
      "auburn stole\n",
      "aqua stole\n",
      "gunmetal blue stole\n",
      "Dark Sapphire stole\n"
     ]
    }
   ],
   "source": [
    "# Write a nested loop that prints out every piece of clothing from the couture list, in every fashionable color from the panettone set:\n",
    "\n",
    "couture = [\"trousers\", \"blouse\", \"bandana\", \"cumber band\", \"blazer\", \n",
    "           \"vest\", \"french beret\", \"scarf\", \"stole\"]\n",
    "panettone = {\"cerise\", \"fuchsia\", \"aqua\", \"maple\", \"auburn\", \n",
    "             \"burnt sienna\", \"gunmetal blue\", \"Dark Sapphire\"}\n",
    "\n",
    "for x in couture:\n",
    "    for y in panettone:\n",
    "        print(y,x)"
   ]
  },
  {
   "cell_type": "code",
   "execution_count": 10,
   "metadata": {},
   "outputs": [
    {
     "name": "stdout",
     "output_type": "stream",
     "text": [
      "4950\n"
     ]
    }
   ],
   "source": [
    "# Use range as a loop to calculate the sum of all the numbers from 1 to 100\n",
    "\n",
    "x= 0\n",
    "for a in range(1,100):\n",
    "    x = x + a\n",
    "print(x)"
   ]
  },
  {
   "cell_type": "code",
   "execution_count": 32,
   "metadata": {},
   "outputs": [
    {
     "name": "stdout",
     "output_type": "stream",
     "text": [
      "banana\n",
      "['kiwi', 'banana', 'cherry']\n",
      "['kiwi', 'banana', 'cherry', 'orange']\n",
      "['kiwi', 'lemon', 'banana', 'cherry', 'orange']\n",
      "['kiwi', 'lemon', 'cherry', 'orange']\n"
     ]
    }
   ],
   "source": [
    "# Print the second item in this fruits list. [\"apple\", \"banana\", \"cherry\"]\n",
    "\n",
    "fruits = [\"apple\", \"banana\", \"cherry\"]\n",
    "print(fruits[1])\n",
    "\n",
    "# Change the value from \"apple\" to \"kiwi\", in the fruits list. [\"apple\", \"banana\", \"cherry\"]\n",
    "\n",
    "fruits[0] = \"kiwi\"\n",
    "print(fruits)\n",
    "\n",
    "#Use the append method to add \"orange\" to the fruits list. [\"apple\", \"banana\", \"cherry\"]\n",
    "\n",
    "fruits.append(\"orange\")\n",
    "print(fruits)\n",
    "\n",
    "# Use the insert method to add \"lemon\" as the second item in the fruits list. [\"apple\", \"banana\", \"cherry\"]\n",
    "\n",
    "fruits.insert(1,\"lemon\")\n",
    "print(fruits)\n",
    "\n",
    "# Use the remove method to remove \"banana\" from the fruits list. [\"apple\", \"banana\", \"cherry\"]\n",
    "\n",
    "fruits.remove(\"banana\")\n",
    "print(fruits)"
   ]
  },
  {
   "cell_type": "code",
   "execution_count": 37,
   "metadata": {},
   "outputs": [
    {
     "name": "stdout",
     "output_type": "stream",
     "text": [
      "['kiwi', 'melon']\n",
      "['cherry', 'orange', 'kiwi']\n",
      "Number of items in the list 7\n",
      "['orange', 'melon', 'mango', 'kiwi', 'cherry', 'banana', 'apple']\n"
     ]
    }
   ],
   "source": [
    "#Use negative indexing to print the 3rd and 2nd to last items in the list. [\"apple\", \"banana\", \"cherry\", \"orange\", \"kiwi\", \"melon\", \"mango\"]\n",
    "\n",
    "fruits = [\"apple\", \"banana\", \"cherry\", \"orange\", \"kiwi\", \"melon\", \"mango\"]\n",
    "print(fruits[-3:-1])\n",
    "\n",
    "#Use a range of indexes to print the third, fourth, and fifth item in the list. [\"apple\", \"banana\", \"cherry\", \"orange\", \"kiwi\", \"melon\", \"mango\"]\n",
    "\n",
    "print(fruits[2:5])\n",
    "\n",
    "#Use the correct syntax to print the number of items in the list. [\"apple\", \"banana\", \"cherry\", \"orange\", \"kiwi\", \"melon\", \"mango\"]\n",
    "\n",
    "numoffruit = len(fruits)\n",
    "print(\"Number of items in the list\", numoffruit)\n",
    "\n",
    "#Use the correct syntax to sort this list in reverse order [\"apple\", \"banana\", \"cherry\", \"orange\", \"kiwi\", \"melon\", \"mango\"]\n",
    "\n",
    "fruits.sort(reverse = True)\n",
    "print(fruits)"
   ]
  }
 ],
 "metadata": {
  "kernelspec": {
   "display_name": "Python 3",
   "language": "python",
   "name": "python3"
  },
  "language_info": {
   "codemirror_mode": {
    "name": "ipython",
    "version": 3
   },
   "file_extension": ".py",
   "mimetype": "text/x-python",
   "name": "python",
   "nbconvert_exporter": "python",
   "pygments_lexer": "ipython3",
   "version": "3.11.1"
  },
  "orig_nbformat": 4,
  "vscode": {
   "interpreter": {
    "hash": "94e6205f4823da1a038757e9398740ca39a6b2275d987ab7060211a4ea61f4f8"
   }
  }
 },
 "nbformat": 4,
 "nbformat_minor": 2
}
