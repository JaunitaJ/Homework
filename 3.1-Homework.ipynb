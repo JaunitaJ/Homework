{
 "cells": [
  {
   "cell_type": "code",
   "execution_count": 25,
   "metadata": {},
   "outputs": [
    {
     "name": "stdout",
     "output_type": "stream",
     "text": [
      "The length of y is 15\n",
      "u\n",
      "ing Data Analytics\n",
      "Learning Data Analytics and Python is great!\n",
      "Yes 'Python' is present\n",
      "Hi my name is Jaunita, I am 63 tall, and 37 today.\n",
      "37.0\n"
     ]
    }
   ],
   "source": [
    "\"\"\"\n",
    "Jaunita,\n",
    "Birria Tacos,\n",
    "Data Analyst\n",
    "\"\"\"\n",
    "\n",
    "cars = ['ford', 'chevy' , 'dodge']\n",
    "x = 9\n",
    "b = {\"event\" : \"suberbowl\" , \"food\" : \"pizza\"}\n",
    "temp = 45.8\n",
    "y = \"fabulous effort\"\n",
    "\n",
    "# Length of String\n",
    "print(\"The length of y is\", len(y))\n",
    "\n",
    "# Index Value of 4th character\n",
    "print(y[3])\n",
    "\n",
    "# New variable \"Savvy\"\n",
    "\n",
    "savvy = \"Learning Data Analytics and Python is Awesome!\"\n",
    "\n",
    "print(savvy[5:23])\n",
    "\n",
    "# Replace Awesome with Great\n",
    "\n",
    "d = savvy.replace('Awesome', 'great')\n",
    "\n",
    "print(d)\n",
    "\n",
    "#Test and print string if Python is present\n",
    "\n",
    "if \"Python\" in savvy:\n",
    "    print(\"Yes 'Python' is present\")\n",
    "    \n",
    "#Create the new variables\n",
    "\n",
    "name = \"Jaunita\"\n",
    "age = 37\n",
    "length = 63\n",
    "\n",
    "minibio = \"Hi my name is {}, I am {} tall, and {} today.\"\n",
    "print(minibio.format(name, length, age))\n",
    "\n",
    "age =float(37)\n",
    "\n",
    "print(age)\n",
    "\n",
    "\n",
    "\n",
    "\n"
   ]
  },
  {
   "attachments": {},
   "cell_type": "markdown",
   "metadata": {},
   "source": [
    "### 3.1 Homework Questions\n",
    "\n",
    "1. What is an algorithm?\n",
    "    - A series of steps to solve a problem at hand.\n",
    "\n",
    "2. Why is python considered a high-level language?\n",
    "    - It takes less time to write, it is shorter and easier to read, more likely to be correct when run.\n",
    "\n",
    "3. Is Python a Natural or Formal language?\n",
    "    - Formal\n",
    "\n",
    "4. Variable names may not start with certain characters - name two.\n",
    "    - ! , ^\n",
    "\n",
    "5. What is Semantic error?\n",
    "    - Code is grammatically correct but doesn't make any sense; it does produce expected results\n",
    "\n",
    "6. What is the number #1 rule of coding and debugging?\n",
    "    - Complexity is the enemy of efficiency\n",
    "\n",
    "7. List 5 Python reserved words.\n",
    "    - As, else, false, lambda, def\n",
    "\n",
    "8. Add a name, a weblink for any Python coding article, in your markdown cell.\n",
    "\n",
    "[Python Operators](https://www.w3schools.com/python/python_operators.asp)"
   ]
  },
  {
   "cell_type": "code",
   "execution_count": null,
   "metadata": {},
   "outputs": [],
   "source": [
    "\n",
    "    "
   ]
  }
 ],
 "metadata": {
  "kernelspec": {
   "display_name": "Python 3",
   "language": "python",
   "name": "python3"
  },
  "language_info": {
   "codemirror_mode": {
    "name": "ipython",
    "version": 3
   },
   "file_extension": ".py",
   "mimetype": "text/x-python",
   "name": "python",
   "nbconvert_exporter": "python",
   "pygments_lexer": "ipython3",
   "version": "3.11.1"
  },
  "orig_nbformat": 4,
  "vscode": {
   "interpreter": {
    "hash": "94e6205f4823da1a038757e9398740ca39a6b2275d987ab7060211a4ea61f4f8"
   }
  }
 },
 "nbformat": 4,
 "nbformat_minor": 2
}
