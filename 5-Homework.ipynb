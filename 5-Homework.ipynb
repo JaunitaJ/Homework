{
 "cells": [
  {
   "attachments": {},
   "cell_type": "markdown",
   "metadata": {},
   "source": [
    "### Week 5 Homework\n",
    "\n",
    "--- \n"
   ]
  },
  {
   "attachments": {},
   "cell_type": "markdown",
   "metadata": {},
   "source": [
    "## Questions\n",
    "\n",
    "1. What does Pandas stand for?\n",
    "\n",
    "    - Panal Data\n",
    "\n",
    "2. What are the 2 collections used in Pandas?\n",
    "\n",
    "    - Series and Dataframes\n",
    "\n",
    "3. Name 4 things Pandas can do for us.\n",
    "\n",
    "    - Data Cleaning, Data Insection, Merges and Joins, Data Visualization\n",
    "\n",
    "4. To permanently sort a DataFrame, which keyword should one use with the df.sort() method?\n",
    "\n",
    "    -inplace=true\n",
    "\n",
    "5. What is a CSV\n",
    "\n",
    "    - Comma Seperated Value File\n",
    "\n",
    "6. When cleaning data what values do we not like in our data?\n",
    "    - Null or zero values\n",
    "\n",
    "\n"
   ]
  },
  {
   "cell_type": "code",
   "execution_count": null,
   "metadata": {},
   "outputs": [],
   "source": [
    "# Concatenate these 3 arrays into a new array named 'newArray'...\n",
    "import numpy as np\n",
    "\n",
    "d1 = np.array([[25, 16]])\n",
    "d2 = np.array([[11, 2], [13, 4]])\n",
    "d3 = np.array([[7, 81], [5, 6], [11, 12]])\n",
    "\n",
    "newArray = np.concatenate((d1, d2, d3), axis=0)\n",
    "print(\"\\n Concat arrays into newArray\\n\", newArray)\n",
    "\n",
    "# Sort 'newArray' in order into 'sortedArray'\n",
    "\n",
    "sortedArray = np.sort(newArray)\n",
    "print(\"\\nsortedarray...\\n\", sortedArray)\n",
    "\n",
    "#Reshape the 'sortedArray' array, into 'reshapedArray',2 dimensions with a size of 2, 3.\n",
    "\n",
    "reshapedArray = sortedArray.reshape(2,2,3)\n",
    "print(\"\\nreshaped Array...\\n\", reshapedArray)\n",
    "\n",
    "#Unpack the array tuples from the above 'reshapedArray' into 4 well named variables.\n",
    "\n",
    "reshapeedArrayB = reshapedArray.reshape(4,3)\n",
    "print(\"\\nsecond reshape...\\n\")\n",
    "z,y,x,w = reshapeedArrayB\n",
    "\n",
    "\n",
    "print(z)\n",
    "print(y)\n",
    "print(x)\n",
    "print(w)\n"
   ]
  },
  {
   "cell_type": "code",
   "execution_count": 1,
   "metadata": {},
   "outputs": [
    {
     "name": "stdout",
     "output_type": "stream",
     "text": [
      "\n",
      "comboArray\n",
      " [ 0  1  2  3  4  5  6  7 10 11 12 13 14 15 16 17 20 21 22 23 24 25 26 27]\n",
      "1\n",
      "[ 2  3  4  5  6  7 10 11 12 13 14 15 16 17 20 21 22 23 24 25 26 27]\n",
      "[ 3  4  5  6  7 10 11 12 13 14]\n",
      "[22 23 24 25 26 27]\n",
      "[ 0  1  2  3  4  5  6  7 10 11 12 13 14 15]\n",
      "[20 22 24 26]\n",
      "[27 22 15 10  3]\n"
     ]
    }
   ],
   "source": [
    "#Combined and sort the following arrays into one called 'comboArray' ...\n",
    "import numpy as np\n",
    "\n",
    "one = ([10, 11, 12, 13, 14, 15, 16, 17])\n",
    "two = ([20, 21, 22, 23, 24, 25, 26, 27])\n",
    "three = ([ 0, 1, 2, 3, 4, 5, 6, 7])\n",
    "\n",
    "comboArray = np.sort(np.concatenate((one, two, three)))\n",
    "print(\"\\ncomboArray\\n\", comboArray)\n",
    "\n",
    "#Take 'comboArray' and perform the following slicing activities:\n",
    "\n",
    "#print sec1 - the 2nd element\n",
    "print(comboArray[1])\n",
    "#print sec2 - all elements from the 3rd element to the last\n",
    "print(comboArray[2:])\n",
    "#print sec3 - all elements from the 4th to the 14th elements\n",
    "print(comboArray[3:13])\n",
    "#print sec4 - the last 6 elements\n",
    "print(comboArray[-6:])\n",
    "#print sec5 - all element from \n",
    "#0 up to and including \n",
    "#15, using the negative number method, i.e. taking a section from the end\n",
    "print(comboArray[:-10]) \n",
    "#print sec6 - from #20 every even element to the end\n",
    "print(comboArray[16::2])\n",
    "#print sec7 - from the last element moving forward, every 5th element.\n",
    "print(comboArray[-1::-5])\n"
   ]
  },
  {
   "cell_type": "code",
   "execution_count": null,
   "metadata": {},
   "outputs": [],
   "source": [
    "#Using simple math operations, \n",
    "#broadcast the addition (+), division (/), and multiplication (*) operations for these 2 arrays --\n",
    "\n",
    "g1 =np.array([[[ 0.0,  0.0,  0.10], [10.0, 10.30, 10.01]],\n",
    "        [[20.0, 20.02, 20.10], [30.0, 31.0, 30.30]],\n",
    "        [[40.40, 24.0, 40.0], [15.0, 15.5, 25.5]]])\n",
    "\n",
    "g2 =np.array([[17.0, 70.0, 10.7]])\n",
    "\n",
    "print(g1 + g2)\n",
    "print(g1 / g2)\n",
    "print(g1 * g2)\n",
    "\n",
    "#Use the NumPy Arithmetic functions to do the subtraction of the above two arrays in point #7.\n",
    "\n",
    "print(np.subtract(g1, g2))\n",
    "\n",
    "#Using modulo find all elements that are divisible by 3 \n",
    "# from the multi-dimensional array under point #7 above.\n",
    "\n",
    "print(g1[g1 % 3 == 0])\n"
   ]
  },
  {
   "cell_type": "code",
   "execution_count": 27,
   "metadata": {},
   "outputs": [
    {
     "name": "stdout",
     "output_type": "stream",
     "text": [
      "  Ingredients Quantity   Unit\n",
      "0       Flour        4   cups\n",
      "1        Milk        1    cup\n",
      "2        Eggs        2  large\n",
      "3        Spam        1    can\n"
     ]
    }
   ],
   "source": [
    "#Using Series, create a DataFrame that looks like this:\n",
    "\n",
    "#Ingredients\tQuantity\tUnit\n",
    "#Flour\t4\tcups\n",
    "#Milk\t1\tcup\n",
    "#Eggs\t2\tlarge\n",
    "#Spam\t1\tcan\n",
    "#Name: Dinner, dtype: object\n",
    "\n",
    "import pandas as pd\n",
    "\n",
    "Ingredients = pd.Series([\"Flour\", \"Milk\", \"Eggs\", \"Spam\"], name=\"Ingredients\")\n",
    "Quantity = pd.Series([\"4\", \"1\", \"2\", \"1\"], name =\"Quantity\")\n",
    "Unit = pd.Series([\"cups\", \"cup\", \"large\", \"can\"], name=\"Unit\")\n",
    "\n",
    "Dinner = pd.concat([Ingredients, Quantity, Unit], axis=1)\n",
    "\n",
    "\n",
    "print(Dinner)\n"
   ]
  },
  {
   "cell_type": "code",
   "execution_count": 35,
   "metadata": {},
   "outputs": [
    {
     "name": "stdout",
     "output_type": "stream",
     "text": [
      "      Name  Height Qualification  address  Age        Pets           sport\n",
      "0      Jai     5.1           Msc    Delhi   21         Dog           Darts\n",
      "1  janusha     6.2            MA     Doha   23       Bunny      Basketball\n",
      "2   Gaurav     5.1           Msc  Chennai   24  Chinchilla  PaddleBoarding\n",
      "3     Anuj     5.2           Msc   Dakhar   21      Parrot         Cricket\n",
      "\n",
      "studentdata desserts\n",
      "       Name  Height Qualification       deserts  address  Age        Pets  \\\n",
      "0      Jai     5.1           Msc     ice cream    Delhi   21         Dog   \n",
      "1  janusha     6.2            MA  Cashew Fudge     Doha   23       Bunny   \n",
      "2   Gaurav     5.1           Msc       waffels  Chennai   24  Chinchilla   \n",
      "3     Anuj     5.2           Msc  Carrot Halwa   Dakhar   21      Parrot   \n",
      "\n",
      "            sport  \n",
      "0           Darts  \n",
      "1      Basketball  \n",
      "2  PaddleBoarding  \n",
      "3         Cricket  \n",
      "\n",
      " studentData sorted by column and address\n",
      "       Name  Height Qualification       deserts  address  Age        Pets  \\\n",
      "3     Anuj     5.2           Msc  Carrot Halwa   Dakhar   21      Parrot   \n",
      "2   Gaurav     5.1           Msc       waffels  Chennai   24  Chinchilla   \n",
      "0      Jai     5.1           Msc     ice cream    Delhi   21         Dog   \n",
      "1  janusha     6.2            MA  Cashew Fudge     Doha   23       Bunny   \n",
      "\n",
      "            sport  \n",
      "3         Cricket  \n",
      "2  PaddleBoarding  \n",
      "0           Darts  \n",
      "1      Basketball  \n"
     ]
    }
   ],
   "source": [
    "# Take this data and create a DataFrame named studentData\n",
    "import pandas as pd\n",
    "\n",
    "data =    {'Name': ['Jai', 'janusha', 'Gaurav', 'Anuj'],\n",
    "         'Height': [5.1, 6.2, 5.1, 5.2],\n",
    "         'Qualification': ['Msc', 'MA', 'Msc', 'Msc'],\n",
    "         'address': ['Delhi', 'Doha', 'Chennai', 'Dakhar'],\n",
    "         'Age': [21, 23, 24, 21],\n",
    "         'Pets': ['Dog', 'Bunny', 'Chinchilla', 'Parrot'],\n",
    "         'sport': ['Darts', 'Basketball', 'PaddleBoarding', 'Cricket']\n",
    "     }\n",
    " \n",
    "studentData = pd.DataFrame(data)\n",
    "print(studentData)\n",
    "\n",
    "\n",
    "# Add a new column to the DataFrame with the following deserts:\n",
    "# [\"ice cream\", \"Cashew Fudge\", \"waffels\", \"Carrot Halwa\"]\n",
    "\n",
    "studentData.insert(3, \"deserts\", [\"ice cream\", \"Cashew Fudge\", \"waffels\", \"Carrot Halwa\"],True)\n",
    "print(\"\\nstudentdata desserts\\n\", studentData)\n",
    "\n",
    "# Sort the 'studentData' DataFrame in Ascending order -- Sorting by column 'Name' and then \"address\"\n",
    "studentData.sort_values(by = [\"Name\", \"address\"], inplace=True)\n",
    "print('\\n studentData sorted by column and address\\n', studentData)\n"
   ]
  },
  {
   "cell_type": "code",
   "execution_count": 12,
   "metadata": {},
   "outputs": [],
   "source": [
    "#Save this DataFrame here below to disc as a .CSV file with the name cows_and_goats.csv:\n",
    "import pandas as pd \n",
    "\n",
    "df = pd.DataFrame({\"Cows\": [12, 20], \"Goats\": [22, 19]}, index=[\"Year 1\", \"Year 2\"])\n",
    "df\n",
    "df.to_csv(\"cows_and_goats.csv\")\n",
    " \n",
    "\n",
    "\n",
    "\n",
    "\n",
    "\n"
   ]
  },
  {
   "cell_type": "code",
   "execution_count": 13,
   "metadata": {},
   "outputs": [
    {
     "name": "stdout",
     "output_type": "stream",
     "text": [
      "  Vegetable Shelf_Life\n",
      "0      Kale    2 Weeks\n",
      "1  Cucumber     1 Week\n",
      "2    Onions    3 weeks\n",
      "  Vegetable Shelf_Life\n",
      "0      Kale    2 Weeks\n",
      "1  Cucumber     1 Week\n",
      "2    Onions    3 weeks\n"
     ]
    }
   ],
   "source": [
    "#(A) Using Pandas, make your own .CSV file with data on vegetables and save it. \n",
    "import pandas as pd\n",
    "\n",
    "veggies = pd.DataFrame({\"Vegetable\": [\"Kale\", \"Cucumber\", \"Onions\"], \n",
    "                        \"Shelf_Life\": [\"2 Weeks\", \"1 Week\", \"3 weeks\"]})\n",
    "\n",
    "print(veggies)\n",
    "\n",
    "veggies.to_csv('veggies.csv', index=False)\n",
    "\n",
    "df = pd.read_csv('veggies.csv')\n",
    "print(df)\n"
   ]
  },
  {
   "cell_type": "code",
   "execution_count": 16,
   "metadata": {},
   "outputs": [
    {
     "name": "stdout",
     "output_type": "stream",
     "text": [
      "  Vegetable Shelf_Life\n",
      "0      Kale    2 Weeks\n",
      "1  Cucumber     1 Week\n",
      "2    Onions    3 weeks\n",
      "  Vegetable Shelf_Life\n",
      "0      Kale    2 Weeks\n",
      "1  Cucumber     1 Week\n",
      "2    Onions    4 Weeks\n"
     ]
    }
   ],
   "source": [
    "#(B) Using Pandas, make a change to your CSV file, and save a copy with a different name.\n",
    "import pandas as pd\n",
    "\n",
    "df = pd.read_csv('veggies.csv')\n",
    "\n",
    "print(df)\n",
    "\n",
    "veggies2 =df.replace(to_replace=[\"3 weeks\"], value= \"4 Weeks\")\n",
    "\n",
    "veggies2.to_csv('veggies2')\n",
    "\n",
    "print(veggies2)"
   ]
  }
 ],
 "metadata": {
  "kernelspec": {
   "display_name": "Python 3",
   "language": "python",
   "name": "python3"
  },
  "language_info": {
   "codemirror_mode": {
    "name": "ipython",
    "version": 3
   },
   "file_extension": ".py",
   "mimetype": "text/x-python",
   "name": "python",
   "nbconvert_exporter": "python",
   "pygments_lexer": "ipython3",
   "version": "3.11.1"
  },
  "orig_nbformat": 4,
  "vscode": {
   "interpreter": {
    "hash": "94e6205f4823da1a038757e9398740ca39a6b2275d987ab7060211a4ea61f4f8"
   }
  }
 },
 "nbformat": 4,
 "nbformat_minor": 2
}
