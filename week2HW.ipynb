{
 "cells": [
  {
   "attachments": {},
   "cell_type": "markdown",
   "metadata": {},
   "source": [
    "### *Week 2 Homework*\n",
    "\n",
    "1. **What kind of language is Python considered?**\n",
    "    - Object Oriented programming language\n",
    "\n",
    "2. **What is a natural language**\n",
    "    - Mostly spoken language that forms on it's own. Slang is an example\n",
    "\n",
    "3. **Is Python a natural or formal language?**\n",
    "    - Formal\n",
    "\n",
    "4. **What are Algorithms**\n",
    "    - A series of steps to solve a problem at hand\n",
    "\n",
    "5. **Why is Python considered to be a high-level language?**\n",
    "    - It takes less time to write, it is shorter and easier to read, and is more likely to be correct and error free when run\n",
    "\n",
    "6. **What is semantic error**\n",
    "    - Code is grammatically correct but does not make sense and does not produce expected result\n",
    "\n",
    "7. **What is the #1 rule of coding/debugging?**\n",
    "    - Complexity is the enemy of efficiency"
   ]
  },
  {
   "cell_type": "code",
   "execution_count": 3,
   "metadata": {},
   "outputs": [
    {
     "name": "stdout",
     "output_type": "stream",
     "text": [
      "Hello World!\n"
     ]
    }
   ],
   "source": [
    "print (\"Hello World!\")"
   ]
  }
 ],
 "metadata": {
  "kernelspec": {
   "display_name": "Python 3",
   "language": "python",
   "name": "python3"
  },
  "language_info": {
   "codemirror_mode": {
    "name": "ipython",
    "version": 3
   },
   "file_extension": ".py",
   "mimetype": "text/x-python",
   "name": "python",
   "nbconvert_exporter": "python",
   "pygments_lexer": "ipython3",
   "version": "3.11.1 (tags/v3.11.1:a7a450f, Dec  6 2022, 19:58:39) [MSC v.1934 64 bit (AMD64)]"
  },
  "orig_nbformat": 4,
  "vscode": {
   "interpreter": {
    "hash": "94e6205f4823da1a038757e9398740ca39a6b2275d987ab7060211a4ea61f4f8"
   }
  }
 },
 "nbformat": 4,
 "nbformat_minor": 2
}
